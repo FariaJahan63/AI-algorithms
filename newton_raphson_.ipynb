{
  "nbformat": 4,
  "nbformat_minor": 0,
  "metadata": {
    "colab": {
      "provenance": [],
      "authorship_tag": "ABX9TyOyxlyxo8Ia5CSm7a9jmB2d",
      "include_colab_link": true
    },
    "kernelspec": {
      "name": "python3",
      "display_name": "Python 3"
    },
    "language_info": {
      "name": "python"
    }
  },
  "cells": [
    {
      "cell_type": "markdown",
      "metadata": {
        "id": "view-in-github",
        "colab_type": "text"
      },
      "source": [
        "<a href=\"https://colab.research.google.com/github/FariaJahan63/AI-algorithms/blob/master/newton_raphson_.ipynb\" target=\"_parent\"><img src=\"https://colab.research.google.com/assets/colab-badge.svg\" alt=\"Open In Colab\"/></a>"
      ]
    },
    {
      "cell_type": "code",
      "execution_count": null,
      "metadata": {
        "id": "qZ5yv0L5wH7f",
        "outputId": "047549cb-fff8-4c01-f326-656fc019c461",
        "colab": {
          "base_uri": "https://localhost:8080/"
        }
      },
      "outputs": [
        {
          "output_type": "stream",
          "name": "stdout",
          "text": [
            "Enter Guess: 2\n",
            "Tolerable Error: 0.000001\n",
            "Maximum Step: 100\n",
            "Iteration-1, x1 = 2.000000 and f(x1) = 0.000000\n",
            "\n",
            "Required root is: 2.00000000\n"
          ]
        }
      ],
      "source": [
        "def f(x):\n",
        "    return x**2 - 3*x + 2\n",
        "\n",
        "#derivative\n",
        "def g(x):\n",
        "    return 2*x - 3\n",
        "\n",
        "# Implementing Newton Raphson algo\n",
        "\n",
        "def newtonRaphson(x0,e,N):\n",
        "\n",
        "    step = 1\n",
        "    flag = 1\n",
        "    condition = True\n",
        "    while condition:\n",
        "        if g(x0) == 0.0:\n",
        "            print('Divide by zero error!')\n",
        "            break\n",
        "\n",
        "        x1 = x0 - f(x0)/g(x0)\n",
        "        print('Iteration-%d, x1 = %0.6f and f(x1) = %0.6f' % (step, x1, f(x1)))\n",
        "        x0 = x1\n",
        "        step = step + 1\n",
        "\n",
        "        if step > N:\n",
        "            flag = 0\n",
        "            break\n",
        "\n",
        "        condition = abs(f(x1)) > e\n",
        "\n",
        "    if flag==1:\n",
        "        print('\\nRequired root is: %0.8f' % x1)\n",
        "    else:\n",
        "        print('\\nNot Convergent.')\n",
        "\n",
        "\n",
        "# Input\n",
        "x0 = input('Enter Guess: ')\n",
        "e = input('Tolerable Error: ')\n",
        "N = input('Maximum Step: ')\n",
        "\n",
        "# Converting x0 and e to float\n",
        "x0 = float(x0)\n",
        "e = float(e)\n",
        "# Converting N to integer\n",
        "N = int(N)\n",
        "# Starting Newton Raphson Method\n",
        "newtonRaphson(x0,e,N)"
      ]
    }
  ]
}